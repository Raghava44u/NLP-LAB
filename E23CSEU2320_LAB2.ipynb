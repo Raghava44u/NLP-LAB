{
 "cells": [
  {
   "cell_type": "code",
   "execution_count": 34,
   "id": "26acd14e",
   "metadata": {},
   "outputs": [
    {
     "name": "stdout",
     "output_type": "stream",
     "text": [
      "Original Paragraph:\n",
      " NLTK is a leading platform for building Python programs to work with human language data.\n",
      "I  <3  NLP!!!  It's soooo   coooool & amaaazing...  \n",
      "#MachineLearning  @AI    let's    goooooo!!!\n",
      "\n",
      "Cleaned Paragraph:\n",
      " nltk is a leading platform for building python programs to work with human language data i love nlp it is soo cool amaazing machinelearning ai let us goo\n"
     ]
    }
   ],
   "source": [
    "import re\n",
    "\n",
    "def to_lowercase(text):\n",
    "    return text.lower()\n",
    "\n",
    "def remove_extra_spaces(text):\n",
    "    return re.sub(r'\\s+', ' ', text).strip()\n",
    "\n",
    "def handle_contractions(text):\n",
    "    contractions = {\n",
    "        \"<3\": \"love\",\n",
    "        \"it's\": \"it is\",\n",
    "        \"let's\": \"let us\",\n",
    "        \"i'm\": \"i am\",\n",
    "        \"can't\": \"cannot\",\n",
    "        \"won't\": \"will not\",\n",
    "        \"n't\": \" not\"\n",
    "    }\n",
    "    for contraction, full in contractions.items():\n",
    "        text = re.sub(contraction, full, text)\n",
    "    return text\n",
    "\n",
    "def remove_special_characters(text):\n",
    "    return re.sub(r'[^a-z0-9\\s]', '', text)\n",
    "\n",
    "def reduce_duplicate_letters(text):\n",
    "    return re.sub(r'(.)\\1{2,}', r'\\1\\1', text)\n",
    "\n",
    "def final_fix(text):\n",
    "    return remove_extra_spaces(text)\n",
    "\n",
    "def clean_text(text):\n",
    "    text = to_lowercase(text)\n",
    "    text = remove_extra_spaces(text)\n",
    "    text = handle_contractions(text)\n",
    "    text = remove_special_characters(text)\n",
    "    text = reduce_duplicate_letters(text)\n",
    "    text = final_fix(text)\n",
    "    return text\n",
    "\n",
    "def paragraph():\n",
    "    with open(\"text.txt\", \"r\") as file:\n",
    "        text = file.read()\n",
    "        return text\n",
    "paragraph = paragraph()\n",
    "\n",
    "cleaned_paragraph = clean_text(paragraph)\n",
    "\n",
    "print(\"Original Paragraph:\\n\", paragraph)\n",
    "print(\"\\nCleaned Paragraph:\\n\", cleaned_paragraph)\n"
   ]
  },
  {
   "cell_type": "code",
   "execution_count": null,
   "id": "e8693eeb",
   "metadata": {},
   "outputs": [],
   "source": []
  }
 ],
 "metadata": {
  "kernelspec": {
   "display_name": "base",
   "language": "python",
   "name": "python3"
  },
  "language_info": {
   "codemirror_mode": {
    "name": "ipython",
    "version": 3
   },
   "file_extension": ".py",
   "mimetype": "text/x-python",
   "name": "python",
   "nbconvert_exporter": "python",
   "pygments_lexer": "ipython3",
   "version": "3.12.3"
  }
 },
 "nbformat": 4,
 "nbformat_minor": 5
}
