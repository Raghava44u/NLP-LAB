{
 "cells": [
  {
   "cell_type": "code",
   "execution_count": 1,
   "id": "088ae641",
   "metadata": {},
   "outputs": [
    {
     "name": "stderr",
     "output_type": "stream",
     "text": [
      "[nltk_data] Downloading package punkt to\n",
      "[nltk_data]     C:\\Users\\nares\\AppData\\Roaming\\nltk_data...\n",
      "[nltk_data]   Package punkt is already up-to-date!\n",
      "[nltk_data] Downloading package wordnet to\n",
      "[nltk_data]     C:\\Users\\nares\\AppData\\Roaming\\nltk_data...\n",
      "[nltk_data]   Package wordnet is already up-to-date!\n",
      "[nltk_data] Downloading package omw-1.4 to\n",
      "[nltk_data]     C:\\Users\\nares\\AppData\\Roaming\\nltk_data...\n",
      "[nltk_data]   Package omw-1.4 is already up-to-date!\n"
     ]
    },
    {
     "data": {
      "text/plain": [
       "True"
      ]
     },
     "execution_count": 1,
     "metadata": {},
     "output_type": "execute_result"
    }
   ],
   "source": [
    "import nltk\n",
    "nltk.download('punkt')\n",
    "nltk.download('wordnet')\n",
    "nltk.download('omw-1.4')"
   ]
  },
  {
   "cell_type": "code",
   "execution_count": 4,
   "id": "57e07e8c",
   "metadata": {},
   "outputs": [],
   "source": [
    "from nltk.stem import PorterStemmer , WordNetLemmatizer\n",
    "from nltk.tokenize import word_tokenize\n",
    "\n",
    "def load_data():\n",
    "  with open('text.txt', 'r',encoding=\"utf-8\",errors=\"ignore\") as file:\n",
    "    data = file.read()\n",
    "  return data\n",
    "\n",
    "text=load_data()"
   ]
  },
  {
   "cell_type": "code",
   "execution_count": 6,
   "id": "ae07cca9",
   "metadata": {},
   "outputs": [],
   "source": [
    "def tokens_from_text(text):\n",
    "  tokens = word_tokenize(text)\n",
    "  return tokens\n",
    "\n",
    "new_tokens = tokens_from_text(text)"
   ]
  },
  {
   "cell_type": "code",
   "execution_count": 9,
   "id": "f20efe6d",
   "metadata": {},
   "outputs": [],
   "source": [
    "def porter_stem (text):\n",
    "  ps=PorterStemmer()\n",
    "  new_porter=[ps.stem(word) for word in new_tokens]\n",
    "  return new_porter\n",
    "\n",
    "stemer = porter_stem(text)"
   ]
  },
  {
   "cell_type": "code",
   "execution_count": 12,
   "id": "8a68bac7",
   "metadata": {},
   "outputs": [],
   "source": [
    "def lemmatize_text(text):\n",
    "    lemmatizer = WordNetLemmatizer()\n",
    "    new_lemmas = [lemmatizer.lemmatize(word) for word in new_tokens]\n",
    "    return new_lemmas\n",
    "\n",
    "lematizer = lemmatize_text(text)"
   ]
  },
  {
   "cell_type": "code",
   "execution_count": null,
   "id": "dfd4725c",
   "metadata": {},
   "outputs": [
    {
     "name": "stdout",
     "output_type": "stream",
     "text": [
      "Available Gutenberg books:\n",
      "['austen-emma.txt', 'austen-persuasion.txt', 'austen-sense.txt', 'bible-kjv.txt', 'blake-poems.txt', 'bryant-stories.txt', 'burgess-busterbrown.txt', 'carroll-alice.txt', 'chesterton-ball.txt', 'chesterton-brown.txt', 'chesterton-thursday.txt', 'edgeworth-parents.txt', 'melville-moby_dick.txt', 'milton-paradise.txt', 'shakespeare-caesar.txt', 'shakespeare-hamlet.txt', 'shakespeare-macbeth.txt', 'whitman-leaves.txt']\n",
      "[Alice's Adventures in Wonderland by Lewis Carroll 1865]\n",
      "\n",
      "CHAPTER I. Down the Rabbit-Hole\n",
      "\n",
      "Alice was beginning to get very tired of sitting by her sister on the\n",
      "bank, and of having nothing to do: once\n",
      "['[', 'Alice', \"'s\", 'Adventures', 'in', 'Wonderland', 'by', 'Lewis', 'Carroll', '1865', ']', 'CHAPTER', 'I', '.', 'Down', 'the', 'Rabbit-Hole', 'Alice', 'was', 'beginning']\n",
      "33535\n"
     ]
    },
    {
     "name": "stderr",
     "output_type": "stream",
     "text": [
      "[nltk_data] Downloading package gutenberg to\n",
      "[nltk_data]     C:\\Users\\nares\\AppData\\Roaming\\nltk_data...\n",
      "[nltk_data]   Package gutenberg is already up-to-date!\n",
      "[nltk_data] Downloading package punkt to\n",
      "[nltk_data]     C:\\Users\\nares\\AppData\\Roaming\\nltk_data...\n",
      "[nltk_data]   Package punkt is already up-to-date!\n"
     ]
    }
   ],
   "source": [
    "#task1\n",
    "import nltk\n",
    "from nltk.corpus import gutenberg\n",
    "#download data\n",
    "nltk.download('gutenberg')\n",
    "nltk.download('punkt')\n"
   ]
  },
  {
   "cell_type": "code",
   "execution_count": null,
   "id": "1ed1f1ea",
   "metadata": {},
   "outputs": [
    {
     "name": "stdout",
     "output_type": "stream",
     "text": [
      "Available Gutenberg books:\n",
      "['austen-emma.txt', 'austen-persuasion.txt', 'austen-sense.txt', 'bible-kjv.txt', 'blake-poems.txt', 'bryant-stories.txt', 'burgess-busterbrown.txt', 'carroll-alice.txt', 'chesterton-ball.txt', 'chesterton-brown.txt', 'chesterton-thursday.txt', 'edgeworth-parents.txt', 'melville-moby_dick.txt', 'milton-paradise.txt', 'shakespeare-caesar.txt', 'shakespeare-hamlet.txt', 'shakespeare-macbeth.txt', 'whitman-leaves.txt']\n"
     ]
    }
   ],
   "source": [
    "#avaiblebooks\n",
    "print(\"Available Gutenberg books\")\n",
    "print(gutenberg.fileids())"
   ]
  },
  {
   "cell_type": "code",
   "execution_count": null,
   "id": "cdffce25",
   "metadata": {},
   "outputs": [],
   "source": [
    "book_id = 'carroll-alice.txt'\n",
    "raw_text = gutenberg.raw(book_id)"
   ]
  },
  {
   "cell_type": "code",
   "execution_count": 17,
   "id": "13b30260",
   "metadata": {},
   "outputs": [
    {
     "name": "stdout",
     "output_type": "stream",
     "text": [
      "[Alice's Adventures in Wonderland by Lewis Carroll 1865]\n",
      "\n",
      "CHAPTER I. Down the Rabbit-Hole\n",
      "\n",
      "Alice was beginning to get very tired of sitting by her sister on the\n",
      "bank, and of having nothing to do: once\n",
      "['[', 'Alice', \"'s\", 'Adventures', 'in', 'Wonderland', 'by', 'Lewis', 'Carroll', '1865', ']', 'CHAPTER', 'I', '.', 'Down', 'the', 'Rabbit-Hole', 'Alice', 'was', 'beginning']\n",
      "33535\n"
     ]
    }
   ],
   "source": [
    "tokens = word_tokenize(raw_text)\n",
    "\n",
    "print(f\"{raw_text[:200]}\")\n",
    "print(f\"{tokens[:20]}\")\n",
    "print(f\"{len(tokens)}\")"
   ]
  },
  {
   "cell_type": "code",
   "execution_count": 18,
   "id": "781cc3d1",
   "metadata": {},
   "outputs": [],
   "source": [
    "#remove punctuation\n",
    "words = [word for word in tokens if word.isalpha()]"
   ]
  },
  {
   "cell_type": "code",
   "execution_count": null,
   "id": "974c6f23",
   "metadata": {},
   "outputs": [
    {
     "name": "stdout",
     "output_type": "stream",
     "text": [
      "Top 15 Bigrams: [(('said', 'the'), 209), (('of', 'the'), 128), (('said', 'alice'), 116), (('in', 'a'), 97), (('in', 'the'), 79), (('and', 'the'), 79), (('it', 'was'), 73), (('to', 'the'), 69), (('the', 'queen'), 69), (('the', 'king'), 62), (('as', 'she'), 61), (('she', 'had'), 60), (('at', 'the'), 60), (('a', 'little'), 60), (('she', 'was'), 56)]\n",
      "Top 15 Trigrams: [(('the', 'mock', 'turtle'), 53), (('the', 'march', 'hare'), 29), (('said', 'the', 'king'), 29), (('the', 'white', 'rabbit'), 21), (('said', 'the', 'hatter'), 21), (('said', 'to', 'herself'), 19), (('said', 'the', 'mock'), 19), (('said', 'the', 'caterpillar'), 18), (('as', 'she', 'could'), 17), (('she', 'went', 'on'), 17), (('she', 'said', 'to'), 17), (('said', 'the', 'gryphon'), 17), (('one', 'of', 'the'), 15), (('said', 'the', 'duchess'), 15), (('said', 'alice', 'i'), 13)]\n"
     ]
    }
   ],
   "source": [
    "#2nd task\n",
    "from nltk.util import ngrams\n",
    "from collections import Counter\n",
    "\n",
    "bigrams = list(ngrams(words, 2))\n",
    "trigrams = list(ngrams(words, 3))\n",
    "\n",
    "bigram_freq = Counter(bigrams)\n",
    "trigram_freq = Counter(trigrams)\n",
    "\n",
    "top_15_bigrams = bigram_freq.most_common(15)\n",
    "top_15_trigrams = trigram_freq.most_common(15)\n",
    "\n",
    "print(\"Top 15 Bigrams:\", top_15_bigrams)\n",
    "print(\"Top 15 Trigrams:\", top_15_trigrams)\n"
   ]
  },
  {
   "cell_type": "code",
   "execution_count": 24,
   "id": "af509ad4",
   "metadata": {},
   "outputs": [],
   "source": [
    "def stem_bigrams(bigrams):\n",
    "    ps = PorterStemmer()\n",
    "    stemmed_bigrams = [(ps.stem(word1), ps.stem(word2)) for word1, word2 in bigrams]\n",
    "    return Counter(stemmed_bigrams)\n",
    "stemmed_words= stem_bigrams(bigrams)"
   ]
  },
  {
   "cell_type": "code",
   "execution_count": 25,
   "id": "7e0ef89e",
   "metadata": {},
   "outputs": [],
   "source": [
    "def lematizer_bigrams(bigrams):\n",
    "    lemmatizer = WordNetLemmatizer()\n",
    "    lemmatized_bigrams = [(lemmatizer.lemmatize(word1), lemmatizer.lemmatize(word2)) for word1, word2 in bigrams]\n",
    "    return Counter(lemmatized_bigrams)\n",
    "lemmatized_words= lematizer_bigrams(bigrams)"
   ]
  },
  {
   "cell_type": "code",
   "execution_count": 27,
   "id": "b16e70cf",
   "metadata": {},
   "outputs": [
    {
     "name": "stdout",
     "output_type": "stream",
     "text": [
      "Top 15 Stemmed first words of bigrams:\n",
      "('said', 'the') : 209\n",
      "('of', 'the') : 128\n",
      "('said', 'alic') : 116\n",
      "('in', 'a') : 97\n",
      "('in', 'the') : 79\n",
      "('and', 'the') : 79\n",
      "('it', 'wa') : 73\n",
      "('to', 'the') : 69\n",
      "('the', 'queen') : 69\n",
      "('the', 'king') : 62\n",
      "('as', 'she') : 61\n",
      "('she', 'had') : 60\n",
      "('at', 'the') : 60\n",
      "('a', 'littl') : 60\n",
      "('she', 'wa') : 56\n",
      "Top 15 Lemmatized first words of bigrams:\n",
      "('said', 'the') : 209\n",
      "('of', 'the') : 128\n",
      "('said', 'alice') : 116\n",
      "('in', 'a') : 98\n",
      "('in', 'the') : 79\n",
      "('and', 'the') : 79\n",
      "('it', 'wa') : 73\n",
      "('to', 'the') : 69\n",
      "('the', 'queen') : 69\n",
      "('a', 'she') : 62\n",
      "('the', 'king') : 62\n",
      "('she', 'had') : 60\n",
      "('at', 'the') : 60\n",
      "('a', 'little') : 60\n",
      "('she', 'wa') : 56\n"
     ]
    }
   ],
   "source": [
    "stemmed_freq = Counter(stemmed_words)\n",
    "lemmatized_freq = Counter(lemmatized_words)\n",
    "\n",
    "top_stemmed = stemmed_freq.most_common(15)\n",
    "top_lemmatized = lemmatized_freq.most_common(15)\n",
    "\n",
    "print(\"Top 15 Stemmed first words of bigrams:\")\n",
    "for word, freq in top_stemmed:\n",
    "    print(word, \":\", freq)\n",
    "\n",
    "print(\"Top 15 Lemmatized first words of bigrams:\")\n",
    "for word, freq in top_lemmatized:\n",
    "    print(word, \":\", freq)"
   ]
  },
  {
   "cell_type": "code",
   "execution_count": 29,
   "id": "a78691da",
   "metadata": {},
   "outputs": [
    {
     "data": {
      "image/png": "[encoded data removed]",
      "text/plain": [
       "<Figure size 1000x600 with 1 Axes>"
      ]
     },
     "metadata": {},
     "output_type": "display_data"
    }
   ],
   "source": [
    "import matplotlib.pyplot as plt\n",
    "labels = [' '.join(bigram) for bigram, _ in top_stemmed]\n",
    "counts = [count for _, count in top_lemmatized]\n",
    "\n",
    "# Plot horizontal bar chart\n",
    "plt.figure(figsize=(10,6))\n",
    "plt.barh(labels[::-1], counts[::-1], color='skyblue')  # reverse for descending order\n",
    "plt.xlabel(\"Frequency\")\n",
    "plt.title(\"Top 15 Most Frequent Bigrams\")\n",
    "plt.tight_layout()\n",
    "plt.show()"
   ]
  },
  {
   "cell_type": "code",
   "execution_count": null,
   "id": "1b055d2a",
   "metadata": {},
   "outputs": [
    {
     "name": "stdout",
     "output_type": "stream",
     "text": [
      "CSV file saved as 'stem_lemmatized_bigrams.csv'\n"
     ]
    }
   ],
   "source": [
    "import pandas as pd\n",
    "from nltk.stem import PorterStemmer, WordNetLemmatizer\n",
    "\n",
    "ps = PorterStemmer()\n",
    "lemmatizer = WordNetLemmatizer()\n",
    "\n",
    "first_words = [bigram[0] for bigram in bigrams]\n",
    "\n",
    "stemmed_words = [ps.stem(word) for word in first_words]\n",
    "\n",
    "def lematizer_bigrams(bigrams):\n",
    "    lemmatized_bigrams = [(lemmatizer.lemmatize(word1), lemmatizer.lemmatize(word2)) for word1, word2 in bigrams]\n",
    "    return lemmatized_bigrams\n",
    "\n",
    "lemmatized_bigrams = lematizer_bigrams(bigrams)\n",
    "\n",
    "stemmed_freq = Counter(stemmed_words)\n",
    "lemmatized_freq = Counter(lemmatized_bigrams)\n",
    "\n",
    "top_stemmed = stemmed_freq.most_common(15)\n",
    "top_lemmatized = lemmatized_freq.most_common(15)\n",
    "\n",
    "df_stem_lemma = pd.DataFrame({\n",
    "    'Stemmed_Word': [word for word, freq in top_stemmed],\n",
    "    'Stemmed_Freq': [freq for word, freq in top_stemmed],\n",
    "    'Lemmatized_Bigram': [' '.join(bigram) for bigram, freq in top_lemmatized],\n",
    "    'Lemmatized_Freq': [freq for bigram, freq in top_lemmatized]\n",
    "})\n",
    "\n",
    "df_stem_lemma.to_csv('stem_lemmatized_bigrams.csv', index=False)\n",
    "print(\"CSV file saved'stem_lemmatized_bigrams.csv'\")\n"
   ]
  },
  {
   "cell_type": "code",
   "execution_count": null,
   "id": "6593a29e",
   "metadata": {},
   "outputs": [],
   "source": []
  }
 ],
 "metadata": {
  "kernelspec": {
   "display_name": "base",
   "language": "python",
   "name": "python3"
  },
  "language_info": {
   "codemirror_mode": {
    "name": "ipython",
    "version": 3
   },
   "file_extension": ".py",
   "mimetype": "text/x-python",
   "name": "python",
   "nbconvert_exporter": "python",
   "pygments_lexer": "ipython3",
   "version": "3.12.3"
  }
 },
 "nbformat": 4,
 "nbformat_minor": 5
}
