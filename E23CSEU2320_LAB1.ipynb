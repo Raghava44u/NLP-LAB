{
 "cells": [
  {
   "cell_type": "code",
   "execution_count": 16,
   "id": "22a470e1",
   "metadata": {},
   "outputs": [],
   "source": [
    "import nltk\n",
    "import re\n",
    "from nltk.stem import WordNetLemmatizer , PorterStemmer\n",
    "from nltk.tokenize import word_tokenize"
   ]
  },
  {
   "cell_type": "code",
   "execution_count": 17,
   "id": "d08863ee",
   "metadata": {},
   "outputs": [
    {
     "name": "stdout",
     "output_type": "stream",
     "text": [
      "Original Text: NLTK is a leading platform for building Python programs to work with human language data.\n",
      "I  <3  NLP!!!  It's soooo   coooool & amaaazing...  \n",
      "#MachineLearning  @AI    let's    goooooo!!!\n",
      "Tokens: ['NLTK', 'is', 'a', 'leading', 'platform', 'for', 'building', 'Python', 'programs', 'to', 'work', 'with', 'human', 'language', 'data', '.', 'I', '<', '3', 'NLP', '!', '!', '!', 'It', \"'s\", 'soooo', 'coooool', '&', 'amaaazing', '...', '#', 'MachineLearning', '@', 'AI', 'let', \"'s\", 'goooooo', '!', '!', '!']\n",
      "Number of tokens: 40\n"
     ]
    },
    {
     "name": "stderr",
     "output_type": "stream",
     "text": [
      "[nltk_data] Downloading package punkt to\n",
      "[nltk_data]     C:\\Users\\nares\\AppData\\Roaming\\nltk_data...\n",
      "[nltk_data]   Package punkt is already up-to-date!\n"
     ]
    }
   ],
   "source": [
    "nltk.download('punkt')\n",
    "\n",
    "def load_data():\n",
    "    with open(\"text.txt\", \"r\") as file:\n",
    "        text = file.read()\n",
    "    return text\n",
    "\n",
    "text = load_data()\n",
    "\n",
    "tokens = word_tokenize(text)\n",
    "\n",
    "print(\"Original Text:\", text)\n",
    "print(\"Tokens:\", tokens)\n",
    "print(\"Number of tokens:\", len(tokens))\n"
   ]
  },
  {
   "cell_type": "code",
   "execution_count": 25,
   "id": "efe90073",
   "metadata": {},
   "outputs": [
    {
     "name": "stdout",
     "output_type": "stream",
     "text": [
      "Original Paragraph:\n",
      " NLTK is a leading platform for building Python programs to work with human language data.\n",
      "I  <3  NLP!!!  It's soooo   coooool & amaaazing...  \n",
      "#MachineLearning  @AI    let's    goooooo!!!\n",
      "\n",
      "Cleaned Paragraph:\n",
      " nltk is a leading platform for building python programs to work with human language data i love nlp it is soo cool amaazing machinelearning ai let us goo\n"
     ]
    }
   ],
   "source": [
    "import re\n",
    "\n",
    "def to_lowercase(text):\n",
    "    return text.lower()\n",
    "\n",
    "def remove_extra_spaces(text):\n",
    "    return re.sub(r'\\s+', ' ', text).strip()\n",
    "\n",
    "def handle_contractions(text):\n",
    "    contractions = {\n",
    "        \"<3\": \"love\",\n",
    "        \"it's\": \"it is\",\n",
    "        \"let's\": \"let us\",\n",
    "        \"i'm\": \"i am\",\n",
    "        \"can't\": \"cannot\",\n",
    "        \"won't\": \"will not\",\n",
    "        \"n't\": \" not\"\n",
    "    }\n",
    "    for contraction, full in contractions.items():\n",
    "        text = re.sub(contraction, full, text)\n",
    "    return text\n",
    "\n",
    "def remove_special_characters(text):\n",
    "    return re.sub(r'[^a-z0-9\\s]', '', text)\n",
    "\n",
    "def reduce_duplicate_letters(text):\n",
    "    return re.sub(r'(.)\\1{2,}', r'\\1\\1', text)\n",
    "\n",
    "def final_fix(text):\n",
    "    return remove_extra_spaces(text)\n",
    "\n",
    "def clean_text(text):\n",
    "    text = to_lowercase(text)\n",
    "    text = remove_extra_spaces(text)\n",
    "    text = handle_contractions(text)\n",
    "    text = remove_special_characters(text)\n",
    "    text = reduce_duplicate_letters(text)\n",
    "    text = final_fix(text)\n",
    "    return text\n",
    "\n",
    "def paragraph():\n",
    "    with open(\"text.txt\", \"r\") as file:\n",
    "        text = file.read()\n",
    "        return text\n",
    "paragraph = paragraph()\n",
    "\n",
    "cleaned_paragraph = clean_text(paragraph)\n",
    "\n",
    "print(\"Original Paragraph:\\n\", paragraph)\n",
    "print(\"\\nCleaned Paragraph:\\n\", cleaned_paragraph)\n"
   ]
  },
  {
   "cell_type": "code",
   "execution_count": 26,
   "id": "204e574f",
   "metadata": {},
   "outputs": [
    {
     "data": {
      "text/plain": [
       "['nltk',\n",
       " 'is',\n",
       " 'a',\n",
       " 'lead',\n",
       " 'platform',\n",
       " 'for',\n",
       " 'build',\n",
       " 'python',\n",
       " 'program',\n",
       " 'to',\n",
       " 'work',\n",
       " 'with',\n",
       " 'human',\n",
       " 'languag',\n",
       " 'data',\n",
       " '.',\n",
       " 'i',\n",
       " '<',\n",
       " '3',\n",
       " 'nlp',\n",
       " '!',\n",
       " '!',\n",
       " '!',\n",
       " 'it',\n",
       " \"'s\",\n",
       " 'soooo',\n",
       " 'coooool',\n",
       " '&',\n",
       " 'amaaaz',\n",
       " '...',\n",
       " '#',\n",
       " 'machinelearn',\n",
       " '@',\n",
       " 'ai',\n",
       " 'let',\n",
       " \"'s\",\n",
       " 'goooooo',\n",
       " '!',\n",
       " '!',\n",
       " '!']"
      ]
     },
     "execution_count": 26,
     "metadata": {},
     "output_type": "execute_result"
    }
   ],
   "source": [
    "def portSte():\n",
    "  ps=PorterStemmer()\n",
    "  stemmed_words = [ps.stem(word) for word in tokens]\n",
    "  return stemmed_words\n",
    "portSte()"
   ]
  },
  {
   "cell_type": "code",
   "execution_count": 27,
   "id": "e5cf2462",
   "metadata": {},
   "outputs": [
    {
     "name": "stderr",
     "output_type": "stream",
     "text": [
      "[nltk_data] Downloading package wordnet to\n",
      "[nltk_data]     C:\\Users\\nares\\AppData\\Roaming\\nltk_data...\n",
      "[nltk_data]   Package wordnet is already up-to-date!\n",
      "[nltk_data] Downloading package omw-1.4 to\n",
      "[nltk_data]     C:\\Users\\nares\\AppData\\Roaming\\nltk_data...\n",
      "[nltk_data]   Package omw-1.4 is already up-to-date!\n"
     ]
    },
    {
     "data": {
      "text/plain": [
       "['NLTK',\n",
       " 'is',\n",
       " 'a',\n",
       " 'leading',\n",
       " 'platform',\n",
       " 'for',\n",
       " 'building',\n",
       " 'Python',\n",
       " 'program',\n",
       " 'to',\n",
       " 'work',\n",
       " 'with',\n",
       " 'human',\n",
       " 'language',\n",
       " 'data',\n",
       " '.',\n",
       " 'I',\n",
       " '<',\n",
       " '3',\n",
       " 'NLP',\n",
       " '!',\n",
       " '!',\n",
       " '!',\n",
       " 'It',\n",
       " \"'s\",\n",
       " 'soooo',\n",
       " 'coooool',\n",
       " '&',\n",
       " 'amaaazing',\n",
       " '...',\n",
       " '#',\n",
       " 'MachineLearning',\n",
       " '@',\n",
       " 'AI',\n",
       " 'let',\n",
       " \"'s\",\n",
       " 'goooooo',\n",
       " '!',\n",
       " '!',\n",
       " '!']"
      ]
     },
     "execution_count": 27,
     "metadata": {},
     "output_type": "execute_result"
    }
   ],
   "source": [
    "nltk.download('wordnet')\n",
    "nltk.download('omw-1.4')\n",
    "def lemmatizer1():\n",
    "  lemmatizer = WordNetLemmatizer()\n",
    "  lemmatized_words = [lemmatizer.lemmatize(word) for word in tokens]\n",
    "  return lemmatized_words\n",
    "lemmatizer1()"
   ]
  },
  {
   "cell_type": "code",
   "execution_count": 28,
   "id": "9b367e3a",
   "metadata": {},
   "outputs": [
    {
     "data": {
      "text/plain": [
       "['NLTK',\n",
       " 'is',\n",
       " 'a',\n",
       " 'leading',\n",
       " 'platform',\n",
       " 'for',\n",
       " 'building',\n",
       " 'Python',\n",
       " 'program',\n",
       " 'to',\n",
       " 'work',\n",
       " 'with',\n",
       " 'human',\n",
       " 'language',\n",
       " 'data',\n",
       " '.',\n",
       " 'I',\n",
       " '<',\n",
       " '3',\n",
       " 'NLP',\n",
       " '!',\n",
       " '!',\n",
       " '!',\n",
       " 'It',\n",
       " \"'s\",\n",
       " 'soooo',\n",
       " 'coooool',\n",
       " '&',\n",
       " 'amaaazing',\n",
       " '...',\n",
       " '#',\n",
       " 'MachineLearning',\n",
       " '@',\n",
       " 'AI',\n",
       " 'let',\n",
       " \"'s\",\n",
       " 'goooooo',\n",
       " '!',\n",
       " '!',\n",
       " '!']"
      ]
     },
     "execution_count": 28,
     "metadata": {},
     "output_type": "execute_result"
    }
   ],
   "source": [
    "portSte()\n",
    "lemmatizer1()"
   ]
  },
  {
   "cell_type": "code",
   "execution_count": null,
   "id": "c2e885d0",
   "metadata": {},
   "outputs": [],
   "source": []
  }
 ],
 "metadata": {
  "kernelspec": {
   "display_name": "base",
   "language": "python",
   "name": "python3"
  },
  "language_info": {
   "codemirror_mode": {
    "name": "ipython",
    "version": 3
   },
   "file_extension": ".py",
   "mimetype": "text/x-python",
   "name": "python",
   "nbconvert_exporter": "python",
   "pygments_lexer": "ipython3",
   "version": "3.12.3"
  }
 },
 "nbformat": 4,
 "nbformat_minor": 5
}
